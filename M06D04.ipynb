{
 "cells": [
  {
   "cell_type": "markdown",
   "id": "6bcf4078",
   "metadata": {},
   "source": [
    "# Classification et Régression Logistique\n",
    "---\n",
    "\n",
    "Lien vers l'audio : https://audio-records-dsfs.s3.eu-west-3.amazonaws.com/M06D04_DataScience.m4a\n",
    "\n",
    "## Introduction à la classification supervisée\n",
    "---\n",
    "\n",
    "### Objectif et distinction avec la régression\n",
    "\n",
    "Ce module explore la logique de la régression logistique et des modèles de classification supervisée.\n",
    "\n",
    "**Distinction fondamentale :**\n",
    "- **Régression linéaire** : prédit une valeur continue (ex: salaire en fonction de l'expérience)\n",
    "- **Classification** : prédit une appartenance à une classe discrète (ex: achat vs non-achat d'un produit)\n",
    "\n",
    "Cette différence conceptuelle nécessite des approches mathématiques et des métriques d'évaluation spécifiques.\n",
    "\n",
    "## La fonction sigmoïde : transformation probabiliste\n",
    "---\n",
    "\n",
    "### Définition mathématique\n",
    "\n",
    "La fonction sigmoïde transforme les sorties de la régression linéaire en probabilités comprises entre 0 et 1 :\n",
    "\n",
    "$$\n",
    "\\sigma(x) = \\frac{1}{1 + e^{-x}}\n",
    "$$\n",
    "\n",
    "où $x = \\beta_0 + \\beta_1 x_1 + ... + \\beta_p x_p$ représente la combinaison linéaire des variables d'entrée."
   ]
  },
  {
   "cell_type": "code",
   "execution_count": 1,
   "id": "6dacd61f",
   "metadata": {},
   "outputs": [
    {
     "data": {
      "application/vnd.plotly.v1+json": {
       "config": {
        "plotlyServerURL": "https://plot.ly"
       },
       "data": [
        {
         "line": {
          "color": "royalblue",
          "width": 3
         },
         "mode": "lines",
         "name": "Fonction Logistique",
         "type": "scatter",
         "x": {
          "bdata": "AAAAAAAAJMBDYt7OkJgjwIbEvJ0hMSPAyiabbLLJIsANiXk7Q2IiwFDrVwrU+iHAk0022WSTIcDXrxSo9SshwBoS83aGxCDAXXTRRRddIMBArV8pUOsfwMdxHMdxHB/ATjbZZJNNHsDU+pUCtX4dwFq/UqDWrxzA4YMPPvjgG8BoSMzbGRIbwO4MiXk7QxrAdNFFF110GcD7lQK1fqUYwIFav1Kg1hfACB988MEHF8CO4ziO4zgWwBWo9SsFahXAm2yyySabFMAiMW9nSMwTwKj1KwVq/RLAL7rooosuEsC1fqVArV8RwDxDYt7OkBDAhA8++OCDD8CSmLczJOYNwJ4hMW9nSAzAqqqqqqqqCsC4MyTm7QwJwMS8nSExbwfA0kUXXXTRBcDezpCYtzMEwOxXCtT6lQLA+OCDDz74AMAI1PqVArX+vyjm7QyJefu/QPjggw8++L9YCtT6lQL1v3Acx3Ecx/G/IF100UUX7b9QgVq/UqDmv4ClQK1fKeC/YJNNNtlk078Ab2dIzNu5vwBvZ0jM27k/YJNNNtlk0z+ApUCtXyngP1CBWr9SoOY/EF100UUX7T9wHMdxHMfxP1gK1PqVAvU/QPjggw8++D8g5u0MiXn7PwjU+pUCtf4/+OCDDz74AEDsVwrU+pUCQNzOkJi3MwRA0EUXXXTRBUDEvJ0hMW8HQLgzJObtDAlArKqqqqqqCkCcITFvZ0gMQJCYtzMk5g1AhA8++OCDD0A8Q2LezpAQQLR+pUCtXxFALrrooosuEkCo9SsFav0SQCIxb2dIzBNAmmyyySabFEAUqPUrBWoVQI7jOI7jOBZACB988MEHF0CAWr9SoNYXQPyVArV+pRhAdNFFF110GUDsDIl5O0MaQGhIzNsZEhtA4IMPPvjgG0Bcv1Kg1q8cQNT6lQK1fh1ATDbZZJNNHkDIcRzHcRwfQECtXylQ6x9AXHTRRRddIEAaEvN2hsQgQNavFKj1KyFAlE022WSTIUBQ61cK1PohQAyJeTtDYiJAyiabbLLJIkCGxLydITEjQERi3s6QmCNAAAAAAAAAJEA=",
          "dtype": "f8"
         },
         "y": {
          "bdata": "YNkd5DLNBz/+4HFcOSENP1rOyTJK0xE/lItkDc3QFT/Ih1lT9bIaPylbq9R2ViA/6/pXOan+Iz9VDp4vYHgoPyTfQGx68i0/0TxxKChTMj9P+UsEBW02P70t3za9cTs/585f+ebKQD8BDMqntIxEPyPYwMqHJUk/+flIV13FTj+9yQHFbtNSP831tfjaCFc/pG9Ly7ouXD8yfWuGQT1hP11MWF64FmU/RnTLaorLaT9xLslAM4xvPwHqkAzdSXM/Bou3ufOUdz9Rb5VF89J8P3/yJ3JYnIE/6qpVJQqDhT+uUU2PGkSKP9IDeHTxBpA/QthMXvKLkz8wdXZaItKXP5pbb3CsAJ0/kAnI+cyioT9IgV8YQmulP1j2chuL+Kk/T1OmTZttrz9s6+24qPiyP0YvBuTt1rY/Qd30+sRnuz+GGQ+yuGDAPxFh16R2fMM/tun8zwYQxz9DsnVRnSHLP1/OJYtys88/KNmT+UBh0j/b67jrwSLVP/NpFkIxFtg/957HFjMw2z+m3FUynWLeP60R1WaxzuA/hDCcdOZn4j8Hy/Re5/TjPxOKIwqfbuU/aRM2g1/P5j9pjDZdIxPoP2+ToquYN+k/ksUATP476j+5J8pW4iDrP545fNPR5+s/WGShYAeT7D8XOn9DIiXtP5NC4ujqoO0/ypolSyYJ7j+b0EhOd2DuP+sHet5Lqe4/aH9jMNPl7j8jhXyc+hfvP1ZMLO1uQe8/PZkNbaBj7z/hP1x0yH/vP7rKwpXvlu8/VKlq1/Op7z82YDeejrnvPyLVdBlaxu8/6pCMGNbQ7z8s3uZFbNnvP9E2v8xz4O8/jDSVdTTm7z+0p6FH6ervP4OUeb7C7u8/SVqaoujx7z8EpYOSe/TvPxt/nUiW9u8/wS2qqE747z/LTw2etvnvP30N1tLc+u8/DKhBRs377z8aJFnIkfzvP4B2X18y/e8/2PH6mrX97z/zO1nYIP7vPx8G/Xl4/u8/gGpsFcD+7z9LtZKY+v7vPzNlVWgq/+8/3JSXeVH/7z+yaa5lcf/vPziOGnuL/+8/iW80y6D/7z8=",
          "dtype": "f8"
         }
        },
        {
         "mode": "markers",
         "name": "Données binaires (0/1)",
         "type": "scatter",
         "x": {
          "bdata": "KFxBwxEPAMCorHfRgNgcQESdeTz6sQ1AgGUZs65B+T8+725kygMWwFpAM48vBBbAUnVTrFtIHMBqb6sSbm8XQGhdkmSs4vk/CApqSh+iCkAYeIxfvq4ewEqnxsUAEx5A7CeCf71GFUC0Z/43CWkSwGTzD9D6XBTA3GUPuxlDFMAwqzYWlw4JwGCM5wDAWdk/mBJDHw1s8b/khZrnALkKwDipyyxkovw/wm2gV4gSF8BYf2sQAZsKwJCRRhwOGwHAIIEzuv595r9cdPKsUkASQMa38HSLOBPAwAS1+/EmzT+4uO8ue6j3P5LXHtn0Bh3A",
          "dtype": "f8"
         },
         "y": {
          "bdata": "AAEBAAAAAAEBAQABAQAAAAABAAAAAAEBAAEAAQEA",
          "dtype": "i1"
         }
        }
       ],
       "layout": {
        "annotations": [
         {
          "showarrow": false,
          "text": "Seuil de décision (0.5)",
          "x": 1,
          "xanchor": "right",
          "xref": "x domain",
          "y": 0.5,
          "yanchor": "bottom",
          "yref": "y"
         }
        ],
        "shapes": [
         {
          "line": {
           "color": "gray",
           "dash": "dash"
          },
          "type": "line",
          "x0": 0,
          "x1": 1,
          "xref": "x domain",
          "y0": 0.5,
          "y1": 0.5,
          "yref": "y"
         }
        ],
        "showlegend": false,
        "template": {
         "data": {
          "bar": [
           {
            "error_x": {
             "color": "#2a3f5f"
            },
            "error_y": {
             "color": "#2a3f5f"
            },
            "marker": {
             "line": {
              "color": "white",
              "width": 0.5
             },
             "pattern": {
              "fillmode": "overlay",
              "size": 10,
              "solidity": 0.2
             }
            },
            "type": "bar"
           }
          ],
          "barpolar": [
           {
            "marker": {
             "line": {
              "color": "white",
              "width": 0.5
             },
             "pattern": {
              "fillmode": "overlay",
              "size": 10,
              "solidity": 0.2
             }
            },
            "type": "barpolar"
           }
          ],
          "carpet": [
           {
            "aaxis": {
             "endlinecolor": "#2a3f5f",
             "gridcolor": "#C8D4E3",
             "linecolor": "#C8D4E3",
             "minorgridcolor": "#C8D4E3",
             "startlinecolor": "#2a3f5f"
            },
            "baxis": {
             "endlinecolor": "#2a3f5f",
             "gridcolor": "#C8D4E3",
             "linecolor": "#C8D4E3",
             "minorgridcolor": "#C8D4E3",
             "startlinecolor": "#2a3f5f"
            },
            "type": "carpet"
           }
          ],
          "choropleth": [
           {
            "colorbar": {
             "outlinewidth": 0,
             "ticks": ""
            },
            "type": "choropleth"
           }
          ],
          "contour": [
           {
            "colorbar": {
             "outlinewidth": 0,
             "ticks": ""
            },
            "colorscale": [
             [
              0,
              "#0d0887"
             ],
             [
              0.1111111111111111,
              "#46039f"
             ],
             [
              0.2222222222222222,
              "#7201a8"
             ],
             [
              0.3333333333333333,
              "#9c179e"
             ],
             [
              0.4444444444444444,
              "#bd3786"
             ],
             [
              0.5555555555555556,
              "#d8576b"
             ],
             [
              0.6666666666666666,
              "#ed7953"
             ],
             [
              0.7777777777777778,
              "#fb9f3a"
             ],
             [
              0.8888888888888888,
              "#fdca26"
             ],
             [
              1,
              "#f0f921"
             ]
            ],
            "type": "contour"
           }
          ],
          "contourcarpet": [
           {
            "colorbar": {
             "outlinewidth": 0,
             "ticks": ""
            },
            "type": "contourcarpet"
           }
          ],
          "heatmap": [
           {
            "colorbar": {
             "outlinewidth": 0,
             "ticks": ""
            },
            "colorscale": [
             [
              0,
              "#0d0887"
             ],
             [
              0.1111111111111111,
              "#46039f"
             ],
             [
              0.2222222222222222,
              "#7201a8"
             ],
             [
              0.3333333333333333,
              "#9c179e"
             ],
             [
              0.4444444444444444,
              "#bd3786"
             ],
             [
              0.5555555555555556,
              "#d8576b"
             ],
             [
              0.6666666666666666,
              "#ed7953"
             ],
             [
              0.7777777777777778,
              "#fb9f3a"
             ],
             [
              0.8888888888888888,
              "#fdca26"
             ],
             [
              1,
              "#f0f921"
             ]
            ],
            "type": "heatmap"
           }
          ],
          "histogram": [
           {
            "marker": {
             "pattern": {
              "fillmode": "overlay",
              "size": 10,
              "solidity": 0.2
             }
            },
            "type": "histogram"
           }
          ],
          "histogram2d": [
           {
            "colorbar": {
             "outlinewidth": 0,
             "ticks": ""
            },
            "colorscale": [
             [
              0,
              "#0d0887"
             ],
             [
              0.1111111111111111,
              "#46039f"
             ],
             [
              0.2222222222222222,
              "#7201a8"
             ],
             [
              0.3333333333333333,
              "#9c179e"
             ],
             [
              0.4444444444444444,
              "#bd3786"
             ],
             [
              0.5555555555555556,
              "#d8576b"
             ],
             [
              0.6666666666666666,
              "#ed7953"
             ],
             [
              0.7777777777777778,
              "#fb9f3a"
             ],
             [
              0.8888888888888888,
              "#fdca26"
             ],
             [
              1,
              "#f0f921"
             ]
            ],
            "type": "histogram2d"
           }
          ],
          "histogram2dcontour": [
           {
            "colorbar": {
             "outlinewidth": 0,
             "ticks": ""
            },
            "colorscale": [
             [
              0,
              "#0d0887"
             ],
             [
              0.1111111111111111,
              "#46039f"
             ],
             [
              0.2222222222222222,
              "#7201a8"
             ],
             [
              0.3333333333333333,
              "#9c179e"
             ],
             [
              0.4444444444444444,
              "#bd3786"
             ],
             [
              0.5555555555555556,
              "#d8576b"
             ],
             [
              0.6666666666666666,
              "#ed7953"
             ],
             [
              0.7777777777777778,
              "#fb9f3a"
             ],
             [
              0.8888888888888888,
              "#fdca26"
             ],
             [
              1,
              "#f0f921"
             ]
            ],
            "type": "histogram2dcontour"
           }
          ],
          "mesh3d": [
           {
            "colorbar": {
             "outlinewidth": 0,
             "ticks": ""
            },
            "type": "mesh3d"
           }
          ],
          "parcoords": [
           {
            "line": {
             "colorbar": {
              "outlinewidth": 0,
              "ticks": ""
             }
            },
            "type": "parcoords"
           }
          ],
          "pie": [
           {
            "automargin": true,
            "type": "pie"
           }
          ],
          "scatter": [
           {
            "fillpattern": {
             "fillmode": "overlay",
             "size": 10,
             "solidity": 0.2
            },
            "type": "scatter"
           }
          ],
          "scatter3d": [
           {
            "line": {
             "colorbar": {
              "outlinewidth": 0,
              "ticks": ""
             }
            },
            "marker": {
             "colorbar": {
              "outlinewidth": 0,
              "ticks": ""
             }
            },
            "type": "scatter3d"
           }
          ],
          "scattercarpet": [
           {
            "marker": {
             "colorbar": {
              "outlinewidth": 0,
              "ticks": ""
             }
            },
            "type": "scattercarpet"
           }
          ],
          "scattergeo": [
           {
            "marker": {
             "colorbar": {
              "outlinewidth": 0,
              "ticks": ""
             }
            },
            "type": "scattergeo"
           }
          ],
          "scattergl": [
           {
            "marker": {
             "colorbar": {
              "outlinewidth": 0,
              "ticks": ""
             }
            },
            "type": "scattergl"
           }
          ],
          "scattermap": [
           {
            "marker": {
             "colorbar": {
              "outlinewidth": 0,
              "ticks": ""
             }
            },
            "type": "scattermap"
           }
          ],
          "scattermapbox": [
           {
            "marker": {
             "colorbar": {
              "outlinewidth": 0,
              "ticks": ""
             }
            },
            "type": "scattermapbox"
           }
          ],
          "scatterpolar": [
           {
            "marker": {
             "colorbar": {
              "outlinewidth": 0,
              "ticks": ""
             }
            },
            "type": "scatterpolar"
           }
          ],
          "scatterpolargl": [
           {
            "marker": {
             "colorbar": {
              "outlinewidth": 0,
              "ticks": ""
             }
            },
            "type": "scatterpolargl"
           }
          ],
          "scatterternary": [
           {
            "marker": {
             "colorbar": {
              "outlinewidth": 0,
              "ticks": ""
             }
            },
            "type": "scatterternary"
           }
          ],
          "surface": [
           {
            "colorbar": {
             "outlinewidth": 0,
             "ticks": ""
            },
            "colorscale": [
             [
              0,
              "#0d0887"
             ],
             [
              0.1111111111111111,
              "#46039f"
             ],
             [
              0.2222222222222222,
              "#7201a8"
             ],
             [
              0.3333333333333333,
              "#9c179e"
             ],
             [
              0.4444444444444444,
              "#bd3786"
             ],
             [
              0.5555555555555556,
              "#d8576b"
             ],
             [
              0.6666666666666666,
              "#ed7953"
             ],
             [
              0.7777777777777778,
              "#fb9f3a"
             ],
             [
              0.8888888888888888,
              "#fdca26"
             ],
             [
              1,
              "#f0f921"
             ]
            ],
            "type": "surface"
           }
          ],
          "table": [
           {
            "cells": {
             "fill": {
              "color": "#EBF0F8"
             },
             "line": {
              "color": "white"
             }
            },
            "header": {
             "fill": {
              "color": "#C8D4E3"
             },
             "line": {
              "color": "white"
             }
            },
            "type": "table"
           }
          ]
         },
         "layout": {
          "annotationdefaults": {
           "arrowcolor": "#2a3f5f",
           "arrowhead": 0,
           "arrowwidth": 1
          },
          "autotypenumbers": "strict",
          "coloraxis": {
           "colorbar": {
            "outlinewidth": 0,
            "ticks": ""
           }
          },
          "colorscale": {
           "diverging": [
            [
             0,
             "#8e0152"
            ],
            [
             0.1,
             "#c51b7d"
            ],
            [
             0.2,
             "#de77ae"
            ],
            [
             0.3,
             "#f1b6da"
            ],
            [
             0.4,
             "#fde0ef"
            ],
            [
             0.5,
             "#f7f7f7"
            ],
            [
             0.6,
             "#e6f5d0"
            ],
            [
             0.7,
             "#b8e186"
            ],
            [
             0.8,
             "#7fbc41"
            ],
            [
             0.9,
             "#4d9221"
            ],
            [
             1,
             "#276419"
            ]
           ],
           "sequential": [
            [
             0,
             "#0d0887"
            ],
            [
             0.1111111111111111,
             "#46039f"
            ],
            [
             0.2222222222222222,
             "#7201a8"
            ],
            [
             0.3333333333333333,
             "#9c179e"
            ],
            [
             0.4444444444444444,
             "#bd3786"
            ],
            [
             0.5555555555555556,
             "#d8576b"
            ],
            [
             0.6666666666666666,
             "#ed7953"
            ],
            [
             0.7777777777777778,
             "#fb9f3a"
            ],
            [
             0.8888888888888888,
             "#fdca26"
            ],
            [
             1,
             "#f0f921"
            ]
           ],
           "sequentialminus": [
            [
             0,
             "#0d0887"
            ],
            [
             0.1111111111111111,
             "#46039f"
            ],
            [
             0.2222222222222222,
             "#7201a8"
            ],
            [
             0.3333333333333333,
             "#9c179e"
            ],
            [
             0.4444444444444444,
             "#bd3786"
            ],
            [
             0.5555555555555556,
             "#d8576b"
            ],
            [
             0.6666666666666666,
             "#ed7953"
            ],
            [
             0.7777777777777778,
             "#fb9f3a"
            ],
            [
             0.8888888888888888,
             "#fdca26"
            ],
            [
             1,
             "#f0f921"
            ]
           ]
          },
          "colorway": [
           "#636efa",
           "#EF553B",
           "#00cc96",
           "#ab63fa",
           "#FFA15A",
           "#19d3f3",
           "#FF6692",
           "#B6E880",
           "#FF97FF",
           "#FECB52"
          ],
          "font": {
           "color": "#2a3f5f"
          },
          "geo": {
           "bgcolor": "white",
           "lakecolor": "white",
           "landcolor": "white",
           "showlakes": true,
           "showland": true,
           "subunitcolor": "#C8D4E3"
          },
          "hoverlabel": {
           "align": "left"
          },
          "hovermode": "closest",
          "mapbox": {
           "style": "light"
          },
          "paper_bgcolor": "white",
          "plot_bgcolor": "white",
          "polar": {
           "angularaxis": {
            "gridcolor": "#EBF0F8",
            "linecolor": "#EBF0F8",
            "ticks": ""
           },
           "bgcolor": "white",
           "radialaxis": {
            "gridcolor": "#EBF0F8",
            "linecolor": "#EBF0F8",
            "ticks": ""
           }
          },
          "scene": {
           "xaxis": {
            "backgroundcolor": "white",
            "gridcolor": "#DFE8F3",
            "gridwidth": 2,
            "linecolor": "#EBF0F8",
            "showbackground": true,
            "ticks": "",
            "zerolinecolor": "#EBF0F8"
           },
           "yaxis": {
            "backgroundcolor": "white",
            "gridcolor": "#DFE8F3",
            "gridwidth": 2,
            "linecolor": "#EBF0F8",
            "showbackground": true,
            "ticks": "",
            "zerolinecolor": "#EBF0F8"
           },
           "zaxis": {
            "backgroundcolor": "white",
            "gridcolor": "#DFE8F3",
            "gridwidth": 2,
            "linecolor": "#EBF0F8",
            "showbackground": true,
            "ticks": "",
            "zerolinecolor": "#EBF0F8"
           }
          },
          "shapedefaults": {
           "line": {
            "color": "#2a3f5f"
           }
          },
          "ternary": {
           "aaxis": {
            "gridcolor": "#DFE8F3",
            "linecolor": "#A2B1C6",
            "ticks": ""
           },
           "baxis": {
            "gridcolor": "#DFE8F3",
            "linecolor": "#A2B1C6",
            "ticks": ""
           },
           "bgcolor": "white",
           "caxis": {
            "gridcolor": "#DFE8F3",
            "linecolor": "#A2B1C6",
            "ticks": ""
           }
          },
          "title": {
           "x": 0.05
          },
          "xaxis": {
           "automargin": true,
           "gridcolor": "#EBF0F8",
           "linecolor": "#EBF0F8",
           "ticks": "",
           "title": {
            "standoff": 15
           },
           "zerolinecolor": "#EBF0F8",
           "zerolinewidth": 2
          },
          "yaxis": {
           "automargin": true,
           "gridcolor": "#EBF0F8",
           "linecolor": "#EBF0F8",
           "ticks": "",
           "title": {
            "standoff": 15
           },
           "zerolinecolor": "#EBF0F8",
           "zerolinewidth": 2
          }
         }
        },
        "title": {
         "text": "Courbe Logistique avec Données Binaires"
        },
        "xaxis": {
         "title": {
          "text": "Variable explicative (x)"
         }
        },
        "yaxis": {
         "title": {
          "text": "Probabilité / Classe"
         }
        }
       }
      }
     },
     "metadata": {},
     "output_type": "display_data"
    }
   ],
   "source": [
    "from graph_gen import get_logistic_curve\n",
    "\n",
    "get_logistic_curve()"
   ]
  },
  {
   "cell_type": "markdown",
   "id": "9b99dc7b",
   "metadata": {},
   "source": [
    "\n",
    "\n",
    "**Propriétés clés :**\n",
    "- Fonction monotone croissante\n",
    "- Asymptotes horizontales en 0 et 1\n",
    "- Point d'inflexion en x = 0 (probabilité = 0.5)\n",
    "\n",
    "### Interprétation pratique\n",
    "\n",
    "**Exemple concret :** Si $\\sigma(x) = 0.9$, cela signifie \"90% de chance d'appartenance à la classe positive\".\n",
    "\n",
    "**Analogie :** La sigmoïde agit comme un filtre probabiliste : elle convertit une \"température\" brute (combinaison linéaire) en probabilité de risque comprise entre 0 (aucun risque) et 1 (risque maximal).\n",
    "\n",
    "### Rôle de l'exponentielle et du logarithme\n",
    "\n",
    "- **Exponentielle** : croissance très rapide, toujours positive\n",
    "- **Logarithme** : \"applatit\" les grands nombres, devient négatif pour les valeurs < 1\n",
    "\n",
    "**Exemple numérique :** $\\log(100\\,000\\,000) \\approx 20$, illustrant la compression logarithmique des ordres de grandeur.\n"
   ]
  },
  {
   "cell_type": "code",
   "execution_count": 2,
   "id": "43eafec0",
   "metadata": {},
   "outputs": [
    {
     "data": {
      "application/vnd.plotly.v1+json": {
       "config": {
        "plotlyServerURL": "https://plot.ly"
       },
       "data": [
        {
         "line": {
          "color": "royalblue",
          "width": 3
         },
         "mode": "lines",
         "type": "scatter",
         "x": {
          "bdata": "AAAAAAAAFMBDYt7OkJgTwIbEvJ0hMRPAyiabbLLJEsANiXk7Q2ISwFDrVwrU+hHAk0022WSTEcDXrxSo9SsRwBoS83aGxBDAXXTRRRddEMBArV8pUOsPwMdxHMdxHA/ATjbZZJNNDsDU+pUCtX4NwFq/UqDWrwzA4YMPPvjgC8BoSMzbGRILwO4MiXk7QwrAdNFFF110CcD7lQK1fqUIwIFav1Kg1gfACB988MEHB8CO4ziO4zgGwBWo9SsFagXAm2yyySabBMAiMW9nSMwDwKj1KwVq/QLAL7rooosuAsC1fqVArV8BwDxDYt7OkADAhA8++OCD/7+SmLczJOb9v54hMW9nSPy/qqqqqqqq+r+4MyTm7Qz5v8S8nSExb/e/0kUXXXTR9b/ezpCYtzP0v+xXCtT6lfK/+OCDDz748L8I1PqVArXuvyjm7QyJeeu/QPjggw8+6L9YCtT6lQLlv3Acx3Ecx+G/IF100UUX3b9QgVq/UqDWv4ClQK1fKdC/YJNNNtlkw78Ab2dIzNupvwBvZ0jM26k/YJNNNtlkwz+ApUCtXynQP1CBWr9SoNY/EF100UUX3T9wHMdxHMfhP1gK1PqVAuU/QPjggw8+6D8g5u0MiXnrPwjU+pUCte4/+OCDDz748D/sVwrU+pXyP9zOkJi3M/Q/0EUXXXTR9T/EvJ0hMW/3P7gzJObtDPk/rKqqqqqq+j+cITFvZ0j8P5CYtzMk5v0/hA8++OCD/z88Q2LezpAAQLR+pUCtXwFALrrooosuAkCo9SsFav0CQCIxb2dIzANAmmyyySabBEAUqPUrBWoFQI7jOI7jOAZACB988MEHB0CAWr9SoNYHQPyVArV+pQhAdNFFF110CUDsDIl5O0MKQGhIzNsZEgtA4IMPPvjgC0Bcv1Kg1q8MQNT6lQK1fg1ATDbZZJNNDkDIcRzHcRwPQECtXylQ6w9AXHTRRRddEEAaEvN2hsQQQNavFKj1KxFAlE022WSTEUBQ61cK1PoRQAyJeTtDYhJAyiabbLLJEkCGxLydITETQERi3s6QmBNAAAAAAAAAFEA=",
          "dtype": "f8"
         },
         "xaxis": "x",
         "y": {
          "bdata": "dlMN4D+Zez8yMnwPM4h+Pw6OVK1744A/LyL4RQSvgj8Q17OhZKuEP+pM6L/N3YY//bOP4f1LiT8HZceMT/yLP6bn3ijK9Y4/xhAsLxogkT/u8HA1FPKSP/yCOE+V9ZQ/WTYhHuEvlz/jyWeAyqaZP4G0VMrCYJw/OU/pnepknz8lK2pGkl2hP4uvsdoUNqM/dh8qSNBApT8SzpEVG4OnP9H7ZQjdAqo/Hn31lJ7GrD94BYLymdWvP/faCgDnm7E/iLG4lQl7sz98/FtIGY21P6AYpcd/17c/PlBZCzpguj915M765y29Pza7Ld/uI8A/f1j9cxvbwT/Nd6HS9cDDP5g1CBl02sU/64yZZBMtyD/lqHcr5r7KP9M0Kxykls0/53Wd1t1d0D9KZEvFMhvSP/wr0AndB9Q/Icz/kOQo1j9kS7Yr2oPYP96hmBvmHts/Wf66K9gA3j8WTaC/nJjgPwUiQSIwXOI/nrcdwMJP5D9CbtuUbnjmPzUUgWvY2+g/OERxnz6A6z/kIdduiWzuP1xYmIQu1PA/YoKVxBae8j/QeQSHqpj0PxftLBcWyfY/M//0gRI1+T+TjtCL9OL7P8HIwz292f4/vbdeGpYQAUAaPpPx6eACQCWdzfyX4gRALWSxGN8aB0Ap+LncjI8JQFnX3MYMRwxAH030A3lID0CKI2mA1k0RQPJjQvqsJBNAjxC/zI4tFUBAFYSozW0XQDACXflL6xlABAtSSIysHED8FVBAwrgfQFED8MDyiyFA5nuSO2NpI0D7JEqvknklQF76UeTlwSdAQ0WJZVRIKkDWycAZeBMtQBk1vEJPFTBAVg0V8e3KMUC8QYUeEK8zQIrSOmqnxjVAHBGO+CsXOEBR6EG/qqY6QF1ozlbVez1AOJ8HvQlPQEC6cAoxywpCQMX4WRi39UNAKafn0NAURkC1YaYgpG1IQCa7HLVTBktAPdV1LanlTUCGgH9sk4lQQDeMOqyNS1JALVu5qls9VECaYWLEEmRWQC/EOadSxVhAuLJ9BlRnW0CIaEne+FBeQM2z4TjvxGBAjzNwmTiNYkA=",
          "dtype": "f8"
         },
         "yaxis": "y"
        },
        {
         "line": {
          "color": "darkorange",
          "width": 3
         },
         "mode": "lines",
         "type": "scatter",
         "x": {
          "bdata": "exSuR+F6hD+ZySlER+2uPwkHNBvrXbw/pJQpSpmixD/CJbkGPRbLP3BbpGHwxNA/ACTsP8L+0z+P7DMelDjXPx61e/xlcto/rX3D2jes3T8eo4XcBHPgP2aHqcvtD+I/rmvNutas4z/1T/Gpv0nlPz00FZmo5uY/hBg5iJGD6D/M/Fx3eiDqPxThgGZjves/W8WkVUxa7T+jqchENffuP/VG9hkPSvA/GTmIkYMY8T89KxoJ+ObxP2EdrIBstfI/hQ8++OCD8z+oAdBvVVL0P8zzYefJIPU/8OXzXj7v9T8U2IXWsr32PzjKF04njPc/W7ypxZta+D9/rjs9ECn5P6OgzbSE9/k/x5JfLPnF+j/rhPGjbZT7Pw53gxviYvw/MmkVk1Yx/T9WW6cKy//9P3pNOYI/zv4/nj/L+bOc/z/gmK44lDUAQPKRd3TOnABABItAsAgEAUAWhAnsQmsBQCh90id90gFAOnabY7c5AkBMb2Sf8aACQF5oLdsrCANAcGH2FmZvA0CBWr9SoNYDQJNTiI7aPQRApUxRyhSlBEC3RRoGTwwFQMk+40GJcwVA2zesfcPaBUDtMHW5/UEGQP8pPvU3qQZAESMHMXIQB0AjHNBsrHcHQDQVmajm3gdARg5i5CBGCEBYBysgW60IQGoA9FuVFAlAfPm8l897CUCO8oXTCeMJQKDrTg9ESgpAsuQXS36xCkDE3eCGuBgLQNbWqcLyfwtA6M9y/iznC0D5yDs6Z04MQAvCBHahtQxAHbvNsdscDUAvtJbtFYQNQEGtXylQ6w1AU6YoZYpSDkBln/GgxLkOQHeYutz+IA9AiZGDGDmID0CbikxUc+8PQNbBCshWKxBAXz7v5fNeEEDoutMDkZIQQHE3uCEuxhBA+rOcP8v5EECDMIFdaC0RQAytZXsFYRFAlSlKmaKUEUAepi63P8gRQKciE9Xc+xFAMJ/38nkvEkC5G9wQF2MSQEKYwC60lhJAyxSlTFHKEkBUkYlq7v0SQN0NboiLMRNAZopSpihlE0DuBjfExZgTQHeDG+JizBNAAAAAAAAAFEA=",
          "dtype": "f8"
         },
         "xaxis": "x2",
         "y": {
          "bdata": "FVW1u7FrEsDEFdXAHnQGwFlXF0+CmQHAWMtKH1cz/b9hrJfRAtn4v3fzxiTpbfW/vJ4tQUKd8r+4BQozoTjwv7BD9EKkR+y/iC2Oz9GY6L/VtN7yZEvlv+bOaCcdTeK/vKdNGNcg37/dwgNi7hXav048X+NYadW/V71B0TwO0b9gBdkFbPTJv3+9ILl9ScK/MnoQ9Q8btr/CdZWDp9Kgv9Bbx3pvWZI/2Hs45DX1sD87VOiBD8K8P8ZSr9njBMQ/ObWACc5ryT/62sY/tprOP64HW2X8ytE/hy+WPLow1D/dw4FeToDWPydlBFJEu9g/N6Cepf/i2j/zxVQlwfjcP2hYEz6r/d4/Q5qa2mJ54D8a5mRpgGzhP7C/hQucWOI//1dVRxo+4z8kPOlqVx3kP0X/a2uo9uQ/HuiWp1vK5T93AKuRuZjmP/efhkQFYuc/eS7ZBn0m6D+jnPi+WuboP2/ydFnUoek/hKsxJBxZ6j+4xIYfYQzrPxSBsUbPu+s/FMWs0I9n7D8xqWBqyQ/tP7ch92qgtO0/SCsHAzdW7j934y9nrfTuPwCTqPYhkO8/dqscr1gU8D+powBcO1/wPyQmMdTFqPA/2fYvPATx8D+vhNoWAjjxP2IgblDKffE/CPafSGfC8T9NJODb4gXyPyKm3GtGSPI/lHNW55qJ8j8HOVnR6MnyP3g+5Ec4CfM/MIoRCpFH8z+268Z9+oTzP7tm+7R7wfM/t2Sachv98z8QIg0v4Df0P2j1cRzQcfQ/AlGIKvGq9D//tFcKSeP0P8MxlzHdGvU/MJPa3bJR9T+U1IkXz4f1PzARp7Q2vfU/MMRmW+7x9T8C1J2E+iX2P3KWCH5fWfY/jrRtbCGM9j+BlZ9NRL72Pzq+XvrL7/Y/jl8fKLwg9z+MHbRqGFH3P/fv3zXkgPc/GNXQ3iKw9z/s7ISd1973P5NyG44FDfg/2ewSsq86+D/r03Xx2Gf4Px/S9huElPg/ea/96bPA+D9I46X9auz4P7O0r+OrF/k/4MFkFHlC+T/3tXD01Gz5P7TnrtXBlvk/M43t90HA+T8=",
          "dtype": "f8"
         },
         "yaxis": "y2"
        }
       ],
       "layout": {
        "annotations": [
         {
          "font": {
           "size": 16
          },
          "showarrow": false,
          "text": "Exponentielle",
          "x": 0.2125,
          "xanchor": "center",
          "xref": "paper",
          "y": 1,
          "yanchor": "bottom",
          "yref": "paper"
         },
         {
          "font": {
           "size": 16
          },
          "showarrow": false,
          "text": "Logarithme naturel",
          "x": 0.7875,
          "xanchor": "center",
          "xref": "paper",
          "y": 1,
          "yanchor": "bottom",
          "yref": "paper"
         }
        ],
        "showlegend": false,
        "template": {
         "data": {
          "bar": [
           {
            "error_x": {
             "color": "#2a3f5f"
            },
            "error_y": {
             "color": "#2a3f5f"
            },
            "marker": {
             "line": {
              "color": "white",
              "width": 0.5
             },
             "pattern": {
              "fillmode": "overlay",
              "size": 10,
              "solidity": 0.2
             }
            },
            "type": "bar"
           }
          ],
          "barpolar": [
           {
            "marker": {
             "line": {
              "color": "white",
              "width": 0.5
             },
             "pattern": {
              "fillmode": "overlay",
              "size": 10,
              "solidity": 0.2
             }
            },
            "type": "barpolar"
           }
          ],
          "carpet": [
           {
            "aaxis": {
             "endlinecolor": "#2a3f5f",
             "gridcolor": "#C8D4E3",
             "linecolor": "#C8D4E3",
             "minorgridcolor": "#C8D4E3",
             "startlinecolor": "#2a3f5f"
            },
            "baxis": {
             "endlinecolor": "#2a3f5f",
             "gridcolor": "#C8D4E3",
             "linecolor": "#C8D4E3",
             "minorgridcolor": "#C8D4E3",
             "startlinecolor": "#2a3f5f"
            },
            "type": "carpet"
           }
          ],
          "choropleth": [
           {
            "colorbar": {
             "outlinewidth": 0,
             "ticks": ""
            },
            "type": "choropleth"
           }
          ],
          "contour": [
           {
            "colorbar": {
             "outlinewidth": 0,
             "ticks": ""
            },
            "colorscale": [
             [
              0,
              "#0d0887"
             ],
             [
              0.1111111111111111,
              "#46039f"
             ],
             [
              0.2222222222222222,
              "#7201a8"
             ],
             [
              0.3333333333333333,
              "#9c179e"
             ],
             [
              0.4444444444444444,
              "#bd3786"
             ],
             [
              0.5555555555555556,
              "#d8576b"
             ],
             [
              0.6666666666666666,
              "#ed7953"
             ],
             [
              0.7777777777777778,
              "#fb9f3a"
             ],
             [
              0.8888888888888888,
              "#fdca26"
             ],
             [
              1,
              "#f0f921"
             ]
            ],
            "type": "contour"
           }
          ],
          "contourcarpet": [
           {
            "colorbar": {
             "outlinewidth": 0,
             "ticks": ""
            },
            "type": "contourcarpet"
           }
          ],
          "heatmap": [
           {
            "colorbar": {
             "outlinewidth": 0,
             "ticks": ""
            },
            "colorscale": [
             [
              0,
              "#0d0887"
             ],
             [
              0.1111111111111111,
              "#46039f"
             ],
             [
              0.2222222222222222,
              "#7201a8"
             ],
             [
              0.3333333333333333,
              "#9c179e"
             ],
             [
              0.4444444444444444,
              "#bd3786"
             ],
             [
              0.5555555555555556,
              "#d8576b"
             ],
             [
              0.6666666666666666,
              "#ed7953"
             ],
             [
              0.7777777777777778,
              "#fb9f3a"
             ],
             [
              0.8888888888888888,
              "#fdca26"
             ],
             [
              1,
              "#f0f921"
             ]
            ],
            "type": "heatmap"
           }
          ],
          "histogram": [
           {
            "marker": {
             "pattern": {
              "fillmode": "overlay",
              "size": 10,
              "solidity": 0.2
             }
            },
            "type": "histogram"
           }
          ],
          "histogram2d": [
           {
            "colorbar": {
             "outlinewidth": 0,
             "ticks": ""
            },
            "colorscale": [
             [
              0,
              "#0d0887"
             ],
             [
              0.1111111111111111,
              "#46039f"
             ],
             [
              0.2222222222222222,
              "#7201a8"
             ],
             [
              0.3333333333333333,
              "#9c179e"
             ],
             [
              0.4444444444444444,
              "#bd3786"
             ],
             [
              0.5555555555555556,
              "#d8576b"
             ],
             [
              0.6666666666666666,
              "#ed7953"
             ],
             [
              0.7777777777777778,
              "#fb9f3a"
             ],
             [
              0.8888888888888888,
              "#fdca26"
             ],
             [
              1,
              "#f0f921"
             ]
            ],
            "type": "histogram2d"
           }
          ],
          "histogram2dcontour": [
           {
            "colorbar": {
             "outlinewidth": 0,
             "ticks": ""
            },
            "colorscale": [
             [
              0,
              "#0d0887"
             ],
             [
              0.1111111111111111,
              "#46039f"
             ],
             [
              0.2222222222222222,
              "#7201a8"
             ],
             [
              0.3333333333333333,
              "#9c179e"
             ],
             [
              0.4444444444444444,
              "#bd3786"
             ],
             [
              0.5555555555555556,
              "#d8576b"
             ],
             [
              0.6666666666666666,
              "#ed7953"
             ],
             [
              0.7777777777777778,
              "#fb9f3a"
             ],
             [
              0.8888888888888888,
              "#fdca26"
             ],
             [
              1,
              "#f0f921"
             ]
            ],
            "type": "histogram2dcontour"
           }
          ],
          "mesh3d": [
           {
            "colorbar": {
             "outlinewidth": 0,
             "ticks": ""
            },
            "type": "mesh3d"
           }
          ],
          "parcoords": [
           {
            "line": {
             "colorbar": {
              "outlinewidth": 0,
              "ticks": ""
             }
            },
            "type": "parcoords"
           }
          ],
          "pie": [
           {
            "automargin": true,
            "type": "pie"
           }
          ],
          "scatter": [
           {
            "fillpattern": {
             "fillmode": "overlay",
             "size": 10,
             "solidity": 0.2
            },
            "type": "scatter"
           }
          ],
          "scatter3d": [
           {
            "line": {
             "colorbar": {
              "outlinewidth": 0,
              "ticks": ""
             }
            },
            "marker": {
             "colorbar": {
              "outlinewidth": 0,
              "ticks": ""
             }
            },
            "type": "scatter3d"
           }
          ],
          "scattercarpet": [
           {
            "marker": {
             "colorbar": {
              "outlinewidth": 0,
              "ticks": ""
             }
            },
            "type": "scattercarpet"
           }
          ],
          "scattergeo": [
           {
            "marker": {
             "colorbar": {
              "outlinewidth": 0,
              "ticks": ""
             }
            },
            "type": "scattergeo"
           }
          ],
          "scattergl": [
           {
            "marker": {
             "colorbar": {
              "outlinewidth": 0,
              "ticks": ""
             }
            },
            "type": "scattergl"
           }
          ],
          "scattermap": [
           {
            "marker": {
             "colorbar": {
              "outlinewidth": 0,
              "ticks": ""
             }
            },
            "type": "scattermap"
           }
          ],
          "scattermapbox": [
           {
            "marker": {
             "colorbar": {
              "outlinewidth": 0,
              "ticks": ""
             }
            },
            "type": "scattermapbox"
           }
          ],
          "scatterpolar": [
           {
            "marker": {
             "colorbar": {
              "outlinewidth": 0,
              "ticks": ""
             }
            },
            "type": "scatterpolar"
           }
          ],
          "scatterpolargl": [
           {
            "marker": {
             "colorbar": {
              "outlinewidth": 0,
              "ticks": ""
             }
            },
            "type": "scatterpolargl"
           }
          ],
          "scatterternary": [
           {
            "marker": {
             "colorbar": {
              "outlinewidth": 0,
              "ticks": ""
             }
            },
            "type": "scatterternary"
           }
          ],
          "surface": [
           {
            "colorbar": {
             "outlinewidth": 0,
             "ticks": ""
            },
            "colorscale": [
             [
              0,
              "#0d0887"
             ],
             [
              0.1111111111111111,
              "#46039f"
             ],
             [
              0.2222222222222222,
              "#7201a8"
             ],
             [
              0.3333333333333333,
              "#9c179e"
             ],
             [
              0.4444444444444444,
              "#bd3786"
             ],
             [
              0.5555555555555556,
              "#d8576b"
             ],
             [
              0.6666666666666666,
              "#ed7953"
             ],
             [
              0.7777777777777778,
              "#fb9f3a"
             ],
             [
              0.8888888888888888,
              "#fdca26"
             ],
             [
              1,
              "#f0f921"
             ]
            ],
            "type": "surface"
           }
          ],
          "table": [
           {
            "cells": {
             "fill": {
              "color": "#EBF0F8"
             },
             "line": {
              "color": "white"
             }
            },
            "header": {
             "fill": {
              "color": "#C8D4E3"
             },
             "line": {
              "color": "white"
             }
            },
            "type": "table"
           }
          ]
         },
         "layout": {
          "annotationdefaults": {
           "arrowcolor": "#2a3f5f",
           "arrowhead": 0,
           "arrowwidth": 1
          },
          "autotypenumbers": "strict",
          "coloraxis": {
           "colorbar": {
            "outlinewidth": 0,
            "ticks": ""
           }
          },
          "colorscale": {
           "diverging": [
            [
             0,
             "#8e0152"
            ],
            [
             0.1,
             "#c51b7d"
            ],
            [
             0.2,
             "#de77ae"
            ],
            [
             0.3,
             "#f1b6da"
            ],
            [
             0.4,
             "#fde0ef"
            ],
            [
             0.5,
             "#f7f7f7"
            ],
            [
             0.6,
             "#e6f5d0"
            ],
            [
             0.7,
             "#b8e186"
            ],
            [
             0.8,
             "#7fbc41"
            ],
            [
             0.9,
             "#4d9221"
            ],
            [
             1,
             "#276419"
            ]
           ],
           "sequential": [
            [
             0,
             "#0d0887"
            ],
            [
             0.1111111111111111,
             "#46039f"
            ],
            [
             0.2222222222222222,
             "#7201a8"
            ],
            [
             0.3333333333333333,
             "#9c179e"
            ],
            [
             0.4444444444444444,
             "#bd3786"
            ],
            [
             0.5555555555555556,
             "#d8576b"
            ],
            [
             0.6666666666666666,
             "#ed7953"
            ],
            [
             0.7777777777777778,
             "#fb9f3a"
            ],
            [
             0.8888888888888888,
             "#fdca26"
            ],
            [
             1,
             "#f0f921"
            ]
           ],
           "sequentialminus": [
            [
             0,
             "#0d0887"
            ],
            [
             0.1111111111111111,
             "#46039f"
            ],
            [
             0.2222222222222222,
             "#7201a8"
            ],
            [
             0.3333333333333333,
             "#9c179e"
            ],
            [
             0.4444444444444444,
             "#bd3786"
            ],
            [
             0.5555555555555556,
             "#d8576b"
            ],
            [
             0.6666666666666666,
             "#ed7953"
            ],
            [
             0.7777777777777778,
             "#fb9f3a"
            ],
            [
             0.8888888888888888,
             "#fdca26"
            ],
            [
             1,
             "#f0f921"
            ]
           ]
          },
          "colorway": [
           "#636efa",
           "#EF553B",
           "#00cc96",
           "#ab63fa",
           "#FFA15A",
           "#19d3f3",
           "#FF6692",
           "#B6E880",
           "#FF97FF",
           "#FECB52"
          ],
          "font": {
           "color": "#2a3f5f"
          },
          "geo": {
           "bgcolor": "white",
           "lakecolor": "white",
           "landcolor": "white",
           "showlakes": true,
           "showland": true,
           "subunitcolor": "#C8D4E3"
          },
          "hoverlabel": {
           "align": "left"
          },
          "hovermode": "closest",
          "mapbox": {
           "style": "light"
          },
          "paper_bgcolor": "white",
          "plot_bgcolor": "white",
          "polar": {
           "angularaxis": {
            "gridcolor": "#EBF0F8",
            "linecolor": "#EBF0F8",
            "ticks": ""
           },
           "bgcolor": "white",
           "radialaxis": {
            "gridcolor": "#EBF0F8",
            "linecolor": "#EBF0F8",
            "ticks": ""
           }
          },
          "scene": {
           "xaxis": {
            "backgroundcolor": "white",
            "gridcolor": "#DFE8F3",
            "gridwidth": 2,
            "linecolor": "#EBF0F8",
            "showbackground": true,
            "ticks": "",
            "zerolinecolor": "#EBF0F8"
           },
           "yaxis": {
            "backgroundcolor": "white",
            "gridcolor": "#DFE8F3",
            "gridwidth": 2,
            "linecolor": "#EBF0F8",
            "showbackground": true,
            "ticks": "",
            "zerolinecolor": "#EBF0F8"
           },
           "zaxis": {
            "backgroundcolor": "white",
            "gridcolor": "#DFE8F3",
            "gridwidth": 2,
            "linecolor": "#EBF0F8",
            "showbackground": true,
            "ticks": "",
            "zerolinecolor": "#EBF0F8"
           }
          },
          "shapedefaults": {
           "line": {
            "color": "#2a3f5f"
           }
          },
          "ternary": {
           "aaxis": {
            "gridcolor": "#DFE8F3",
            "linecolor": "#A2B1C6",
            "ticks": ""
           },
           "baxis": {
            "gridcolor": "#DFE8F3",
            "linecolor": "#A2B1C6",
            "ticks": ""
           },
           "bgcolor": "white",
           "caxis": {
            "gridcolor": "#DFE8F3",
            "linecolor": "#A2B1C6",
            "ticks": ""
           }
          },
          "title": {
           "x": 0.05
          },
          "xaxis": {
           "automargin": true,
           "gridcolor": "#EBF0F8",
           "linecolor": "#EBF0F8",
           "ticks": "",
           "title": {
            "standoff": 15
           },
           "zerolinecolor": "#EBF0F8",
           "zerolinewidth": 2
          },
          "yaxis": {
           "automargin": true,
           "gridcolor": "#EBF0F8",
           "linecolor": "#EBF0F8",
           "ticks": "",
           "title": {
            "standoff": 15
           },
           "zerolinecolor": "#EBF0F8",
           "zerolinewidth": 2
          }
         }
        },
        "title": {
         "text": "Exponentielle vs Logarithme naturel"
        },
        "xaxis": {
         "anchor": "y",
         "domain": [
          0,
          0.425
         ]
        },
        "xaxis2": {
         "anchor": "y2",
         "domain": [
          0.575,
          1
         ]
        },
        "yaxis": {
         "anchor": "x",
         "domain": [
          0,
          1
         ]
        },
        "yaxis2": {
         "anchor": "x2",
         "domain": [
          0,
          1
         ]
        }
       }
      }
     },
     "metadata": {},
     "output_type": "display_data"
    }
   ],
   "source": [
    "from graph_gen import get_exp_log_curves\n",
    "\n",
    "get_exp_log_curves()"
   ]
  },
  {
   "cell_type": "markdown",
   "id": "244b0854",
   "metadata": {},
   "source": [
    "## Fonction de coût : log loss\n",
    "---\n",
    "\n",
    "### Principe et formulation\n",
    "\n",
    "La fonction de coût \"log loss\" (entropie croisée binaire) pénalise les prédictions incorrectes de façon asymétrique :\n",
    "\n",
    "$$\n",
    "\\text{Log Loss} = -\\frac{1}{n} \\sum_{i=1}^{n} [y_i \\log(\\hat{p}_i) + (1-y_i) \\log(1-\\hat{p}_i)]\n",
    "$$\n",
    "\n",
    "où $y_i \\in \\{0,1\\}$ est la vraie classe et $\\hat{p}_i$ la probabilité prédite.\n",
    "\n",
    "### Comportement de la pénalité\n",
    "\n",
    "- **Prédiction correcte et confiante** : coût très faible\n",
    "- **Prédiction incorrecte et confiante** : coût très élevé (tend vers l'infini)\n",
    "\n",
    "**Analogie :** Comme parier sur un match : miser correctement rapporte peu, mais miser massivement sur le mauvais résultat entraîne des pertes considérables.\n",
    "\n",
    "### Applications contextuelles\n",
    "\n",
    "**En médecine :** Le modèle doit minimiser les faux négatifs - il vaut mieux alerter à tort que manquer un cas de cancer.\n",
    "\n",
    "Cette philosophie influence directement le choix des seuils de décision et des métriques d'évaluation.\n",
    "\n",
    "## Gestion du déséquilibre des classes\n",
    "---\n",
    "\n",
    "### Problématique et solutions\n",
    "\n",
    "Quand les classes sont déséquilibrées (ex: 95% non-acheteurs, 5% acheteurs), le paramètre `class_weight` permet de rééquilibrer l'apprentissage en pondérant davantage la classe minoritaire.\n",
    "\n",
    "**Stratégies de pondération :**\n",
    "- `class_weight='balanced'` : pondération inverse de la fréquence\n",
    "- Pondération manuelle selon l'importance business\n",
    "\n",
    "**Exemple pratique :** En détection de fraude bancaire, les transactions frauduleuses sont rares mais critiques. La pondération des classes rend le modèle plus sensible à ces cas minoritaires essentiels.\n",
    "\n",
    "## Extension à la multi-classification\n",
    "---\n",
    "\n",
    "### Softmax : généralisation de la sigmoïde\n",
    "\n",
    "Pour plus de deux classes, la régression logistique utilise la fonction softmax :\n",
    "\n",
    "$$\n",
    "P(y = k | x) = \\frac{e^{\\beta_k^T x}}{\\sum_{j=1}^{K} e^{\\beta_j^T x}}\n",
    "$$\n",
    "\n",
    "Cette fonction garantit que $\\sum_{k=1}^{K} P(y = k | x) = 1$.\n",
    "\n",
    "**Exemple d'application :** Classifier les espèces d'iris (setosa, versicolor, virginica) à partir des caractéristiques morphologiques.\n",
    "\n",
    "## Limites de la séparation linéaire\n",
    "---\n",
    "\n",
    "### Problème de non-linéarité\n",
    "\n",
    "Quand la séparation des classes n'est pas linéaire dans l'espace des features, la régression logistique atteint ses limites de performance.\n",
    "\n",
    "**Analogie :** C'est comme essayer de diviser une pizza aux formes irrégulières avec une règle droite - parfois il faut \"courber l'espace\" ou ajouter des dimensions.\n",
    "\n",
    "### Solutions : SVM et transformations\n",
    "\n",
    "Les **Support Vector Machines (SVM)** résolvent ce problème en projetant les données dans un espace de dimension supérieure via des \"kernels\", où un hyperplan séparateur devient possible.\n",
    "\n",
    "**Techniques alternatives :**\n",
    "- Transformation polynomial des features\n",
    "- Kernels RBF (Gaussian)\n",
    "- Réseaux de neurones\n",
    "\n",
    "## Pipeline de preprocessing\n",
    "---\n",
    "\n",
    "### Étapes essentielles\n",
    "\n",
    "**Imputation** (`SimpleImputer`) : remplacer les valeurs manquantes\n",
    "- Stratégie numérique : moyenne, médiane\n",
    "- Stratégie catégorielle : mode, constante\n",
    "\n",
    "**Encodage** (`OneHotEncoder`) : transformer les variables catégorielles en indicateurs binaires\n",
    "\n",
    "**Standardisation** (`StandardScaler`) : centrer et réduire les variables\n",
    "$$\n",
    "x_{scaled} = \\frac{x - \\mu}{\\sigma}\n",
    "$$\n",
    "\n",
    "### Importance de l'automatisation\n",
    "\n",
    "**Sans pipeline :** Risk de data leakage et erreurs manuelles\n",
    "**Avec pipeline :** Enchaînement automatisé et reproductible\n",
    "\n",
    "**Exemple concret :** Pour le dataset \"Country\", l'encodage protège contre les erreurs de prédiction sur des pays jamais vus dans le jeu de test.\n",
    "\n",
    "## Métriques d'évaluation\n",
    "---\n",
    "\n",
    "### Matrice de confusion\n",
    "\n",
    "Tableau croisé des prédictions vs vraies classes :\n",
    "\n",
    "|                | Prédit Négatif | Prédit Positif |\n",
    "|----------------|----------------|----------------|\n",
    "| **Vrai Négatif**   | TN             | FP             |\n",
    "| **Vrai Positif**   | FN             | TP             |\n",
    "\n",
    "**Analogie :** Un bulletin de notes croisant les objectifs du professeur avec les réalisations de l'étudiant.\n",
    "\n",
    "### Métriques fondamentales\n",
    "\n",
    "**Accuracy (exactitude) :**\n",
    "$$\n",
    "\\text{Accuracy} = \\frac{TP + TN}{TP + TN + FP + FN}\n",
    "$$\n",
    "\n",
    "**Precision (précision) :**\n",
    "$$\n",
    "\\text{Precision} = \\frac{TP}{TP + FP}\n",
    "$$\n",
    "Minimise les faux positifs.\n",
    "\n",
    "**Recall (rappel) :**\n",
    "$$\n",
    "\\text{Recall} = \\frac{TP}{TP + FN}\n",
    "$$\n",
    "Minimise les faux négatifs.\n",
    "\n",
    "**F1-Score :**\n",
    "$$\n",
    "\\text{F1} = 2 \\times \\frac{\\text{Precision} \\times \\text{Recall}}{\\text{Precision} + \\text{Recall}}\n",
    "$$\n",
    "Moyenne harmonique équilibrant precision et recall.\n",
    "\n",
    "### Choix contextuel des métriques\n",
    "\n",
    "**Détection COVID :** Privilégier le recall (ne manquer aucun cas positif)\n",
    "**Filtrage spam :** Privilégier la precision (éviter de bloquer des emails importants)\n",
    "**Données équilibrées :** L'accuracy peut suffire\n",
    "**Données déséquilibrées :** F1-score indispensable\n",
    "\n",
    "**Piège classique :** Prédire toujours \"1\" maximise le recall mais annule la precision. D'où l'importance du F1-score pour équilibrer.\n",
    "\n",
    "## Analyse ROC et AUC\n",
    "---\n",
    "\n",
    "### Courbe ROC\n",
    "\n",
    "La courbe ROC (Receiver Operating Characteristic) trace le **True Positive Rate** vs **False Positive Rate** pour tous les seuils de décision :\n",
    "\n",
    "- **TPR = Recall** = TP/(TP+FN)\n",
    "- **FPR** = FP/(FP+TN)\n",
    "\n",
    "### Métrique AUC\n",
    "\n",
    "L'**AUC (Area Under Curve)** synthétise la performance globale :\n",
    "- **AUC = 0.5** : modèle aléatoire\n",
    "- **AUC = 1.0** : modèle parfait\n",
    "- **AUC > 0.7** : performance généralement acceptable\n",
    "\n",
    "**Exemple médical :** Pour évaluer un test de diagnostic, la courbe ROC révèle la qualité discriminante à tous les seuils de décision possibles."
   ]
  },
  {
   "cell_type": "code",
   "execution_count": 4,
   "id": "fcde717e",
   "metadata": {},
   "outputs": [
    {
     "data": {
      "application/vnd.plotly.v1+json": {
       "config": {
        "plotlyServerURL": "https://plot.ly"
       },
       "data": [
        {
         "line": {
          "color": "green",
          "width": 4
         },
         "mode": "lines+markers",
         "name": "Parfaite",
         "type": "scatter",
         "x": [
          0,
          0,
          1
         ],
         "xaxis": "x",
         "y": [
          0,
          1,
          1
         ],
         "yaxis": "y"
        },
        {
         "line": {
          "color": "gray",
          "dash": "dash"
         },
         "mode": "lines",
         "name": "Aléatoire",
         "type": "scatter",
         "x": [
          0,
          1
         ],
         "xaxis": "x",
         "y": [
          0,
          1
         ],
         "yaxis": "y"
        },
        {
         "line": {
          "color": "red",
          "width": 4
         },
         "mode": "lines+markers",
         "name": "Aléatoire",
         "type": "scatter",
         "x": [
          0,
          1
         ],
         "xaxis": "x2",
         "y": [
          0,
          1
         ],
         "yaxis": "y2"
        },
        {
         "line": {
          "color": "blue",
          "width": 4
         },
         "mode": "lines+markers",
         "name": "Normale",
         "type": "scatter",
         "x": [
          0,
          0.06,
          0.12,
          0.19,
          0.33,
          0.45,
          0.66,
          0.81,
          1
         ],
         "xaxis": "x3",
         "y": [
          0,
          0.53,
          0.68,
          0.81,
          0.87,
          0.91,
          0.96,
          0.99,
          1
         ],
         "yaxis": "y3"
        },
        {
         "line": {
          "color": "gray",
          "dash": "dash"
         },
         "mode": "lines",
         "showlegend": false,
         "type": "scatter",
         "x": [
          0,
          1
         ],
         "xaxis": "x3",
         "y": [
          0,
          1
         ],
         "yaxis": "y3"
        }
       ],
       "layout": {
        "annotations": [
         {
          "font": {
           "size": 16
          },
          "showarrow": false,
          "text": "ROC parfaite (AUC = 1)",
          "x": 0.13999999999999999,
          "xanchor": "center",
          "xref": "paper",
          "y": 1,
          "yanchor": "bottom",
          "yref": "paper"
         },
         {
          "font": {
           "size": 16
          },
          "showarrow": false,
          "text": "ROC aléatoire (AUC = 0.5)",
          "x": 0.49999999999999994,
          "xanchor": "center",
          "xref": "paper",
          "y": 1,
          "yanchor": "bottom",
          "yref": "paper"
         },
         {
          "font": {
           "size": 16
          },
          "showarrow": false,
          "text": "ROC normale (AUC ≈ 0.85)",
          "x": 0.86,
          "xanchor": "center",
          "xref": "paper",
          "y": 1,
          "yanchor": "bottom",
          "yref": "paper"
         }
        ],
        "showlegend": false,
        "template": {
         "data": {
          "bar": [
           {
            "error_x": {
             "color": "#2a3f5f"
            },
            "error_y": {
             "color": "#2a3f5f"
            },
            "marker": {
             "line": {
              "color": "white",
              "width": 0.5
             },
             "pattern": {
              "fillmode": "overlay",
              "size": 10,
              "solidity": 0.2
             }
            },
            "type": "bar"
           }
          ],
          "barpolar": [
           {
            "marker": {
             "line": {
              "color": "white",
              "width": 0.5
             },
             "pattern": {
              "fillmode": "overlay",
              "size": 10,
              "solidity": 0.2
             }
            },
            "type": "barpolar"
           }
          ],
          "carpet": [
           {
            "aaxis": {
             "endlinecolor": "#2a3f5f",
             "gridcolor": "#C8D4E3",
             "linecolor": "#C8D4E3",
             "minorgridcolor": "#C8D4E3",
             "startlinecolor": "#2a3f5f"
            },
            "baxis": {
             "endlinecolor": "#2a3f5f",
             "gridcolor": "#C8D4E3",
             "linecolor": "#C8D4E3",
             "minorgridcolor": "#C8D4E3",
             "startlinecolor": "#2a3f5f"
            },
            "type": "carpet"
           }
          ],
          "choropleth": [
           {
            "colorbar": {
             "outlinewidth": 0,
             "ticks": ""
            },
            "type": "choropleth"
           }
          ],
          "contour": [
           {
            "colorbar": {
             "outlinewidth": 0,
             "ticks": ""
            },
            "colorscale": [
             [
              0,
              "#0d0887"
             ],
             [
              0.1111111111111111,
              "#46039f"
             ],
             [
              0.2222222222222222,
              "#7201a8"
             ],
             [
              0.3333333333333333,
              "#9c179e"
             ],
             [
              0.4444444444444444,
              "#bd3786"
             ],
             [
              0.5555555555555556,
              "#d8576b"
             ],
             [
              0.6666666666666666,
              "#ed7953"
             ],
             [
              0.7777777777777778,
              "#fb9f3a"
             ],
             [
              0.8888888888888888,
              "#fdca26"
             ],
             [
              1,
              "#f0f921"
             ]
            ],
            "type": "contour"
           }
          ],
          "contourcarpet": [
           {
            "colorbar": {
             "outlinewidth": 0,
             "ticks": ""
            },
            "type": "contourcarpet"
           }
          ],
          "heatmap": [
           {
            "colorbar": {
             "outlinewidth": 0,
             "ticks": ""
            },
            "colorscale": [
             [
              0,
              "#0d0887"
             ],
             [
              0.1111111111111111,
              "#46039f"
             ],
             [
              0.2222222222222222,
              "#7201a8"
             ],
             [
              0.3333333333333333,
              "#9c179e"
             ],
             [
              0.4444444444444444,
              "#bd3786"
             ],
             [
              0.5555555555555556,
              "#d8576b"
             ],
             [
              0.6666666666666666,
              "#ed7953"
             ],
             [
              0.7777777777777778,
              "#fb9f3a"
             ],
             [
              0.8888888888888888,
              "#fdca26"
             ],
             [
              1,
              "#f0f921"
             ]
            ],
            "type": "heatmap"
           }
          ],
          "histogram": [
           {
            "marker": {
             "pattern": {
              "fillmode": "overlay",
              "size": 10,
              "solidity": 0.2
             }
            },
            "type": "histogram"
           }
          ],
          "histogram2d": [
           {
            "colorbar": {
             "outlinewidth": 0,
             "ticks": ""
            },
            "colorscale": [
             [
              0,
              "#0d0887"
             ],
             [
              0.1111111111111111,
              "#46039f"
             ],
             [
              0.2222222222222222,
              "#7201a8"
             ],
             [
              0.3333333333333333,
              "#9c179e"
             ],
             [
              0.4444444444444444,
              "#bd3786"
             ],
             [
              0.5555555555555556,
              "#d8576b"
             ],
             [
              0.6666666666666666,
              "#ed7953"
             ],
             [
              0.7777777777777778,
              "#fb9f3a"
             ],
             [
              0.8888888888888888,
              "#fdca26"
             ],
             [
              1,
              "#f0f921"
             ]
            ],
            "type": "histogram2d"
           }
          ],
          "histogram2dcontour": [
           {
            "colorbar": {
             "outlinewidth": 0,
             "ticks": ""
            },
            "colorscale": [
             [
              0,
              "#0d0887"
             ],
             [
              0.1111111111111111,
              "#46039f"
             ],
             [
              0.2222222222222222,
              "#7201a8"
             ],
             [
              0.3333333333333333,
              "#9c179e"
             ],
             [
              0.4444444444444444,
              "#bd3786"
             ],
             [
              0.5555555555555556,
              "#d8576b"
             ],
             [
              0.6666666666666666,
              "#ed7953"
             ],
             [
              0.7777777777777778,
              "#fb9f3a"
             ],
             [
              0.8888888888888888,
              "#fdca26"
             ],
             [
              1,
              "#f0f921"
             ]
            ],
            "type": "histogram2dcontour"
           }
          ],
          "mesh3d": [
           {
            "colorbar": {
             "outlinewidth": 0,
             "ticks": ""
            },
            "type": "mesh3d"
           }
          ],
          "parcoords": [
           {
            "line": {
             "colorbar": {
              "outlinewidth": 0,
              "ticks": ""
             }
            },
            "type": "parcoords"
           }
          ],
          "pie": [
           {
            "automargin": true,
            "type": "pie"
           }
          ],
          "scatter": [
           {
            "fillpattern": {
             "fillmode": "overlay",
             "size": 10,
             "solidity": 0.2
            },
            "type": "scatter"
           }
          ],
          "scatter3d": [
           {
            "line": {
             "colorbar": {
              "outlinewidth": 0,
              "ticks": ""
             }
            },
            "marker": {
             "colorbar": {
              "outlinewidth": 0,
              "ticks": ""
             }
            },
            "type": "scatter3d"
           }
          ],
          "scattercarpet": [
           {
            "marker": {
             "colorbar": {
              "outlinewidth": 0,
              "ticks": ""
             }
            },
            "type": "scattercarpet"
           }
          ],
          "scattergeo": [
           {
            "marker": {
             "colorbar": {
              "outlinewidth": 0,
              "ticks": ""
             }
            },
            "type": "scattergeo"
           }
          ],
          "scattergl": [
           {
            "marker": {
             "colorbar": {
              "outlinewidth": 0,
              "ticks": ""
             }
            },
            "type": "scattergl"
           }
          ],
          "scattermap": [
           {
            "marker": {
             "colorbar": {
              "outlinewidth": 0,
              "ticks": ""
             }
            },
            "type": "scattermap"
           }
          ],
          "scattermapbox": [
           {
            "marker": {
             "colorbar": {
              "outlinewidth": 0,
              "ticks": ""
             }
            },
            "type": "scattermapbox"
           }
          ],
          "scatterpolar": [
           {
            "marker": {
             "colorbar": {
              "outlinewidth": 0,
              "ticks": ""
             }
            },
            "type": "scatterpolar"
           }
          ],
          "scatterpolargl": [
           {
            "marker": {
             "colorbar": {
              "outlinewidth": 0,
              "ticks": ""
             }
            },
            "type": "scatterpolargl"
           }
          ],
          "scatterternary": [
           {
            "marker": {
             "colorbar": {
              "outlinewidth": 0,
              "ticks": ""
             }
            },
            "type": "scatterternary"
           }
          ],
          "surface": [
           {
            "colorbar": {
             "outlinewidth": 0,
             "ticks": ""
            },
            "colorscale": [
             [
              0,
              "#0d0887"
             ],
             [
              0.1111111111111111,
              "#46039f"
             ],
             [
              0.2222222222222222,
              "#7201a8"
             ],
             [
              0.3333333333333333,
              "#9c179e"
             ],
             [
              0.4444444444444444,
              "#bd3786"
             ],
             [
              0.5555555555555556,
              "#d8576b"
             ],
             [
              0.6666666666666666,
              "#ed7953"
             ],
             [
              0.7777777777777778,
              "#fb9f3a"
             ],
             [
              0.8888888888888888,
              "#fdca26"
             ],
             [
              1,
              "#f0f921"
             ]
            ],
            "type": "surface"
           }
          ],
          "table": [
           {
            "cells": {
             "fill": {
              "color": "#EBF0F8"
             },
             "line": {
              "color": "white"
             }
            },
            "header": {
             "fill": {
              "color": "#C8D4E3"
             },
             "line": {
              "color": "white"
             }
            },
            "type": "table"
           }
          ]
         },
         "layout": {
          "annotationdefaults": {
           "arrowcolor": "#2a3f5f",
           "arrowhead": 0,
           "arrowwidth": 1
          },
          "autotypenumbers": "strict",
          "coloraxis": {
           "colorbar": {
            "outlinewidth": 0,
            "ticks": ""
           }
          },
          "colorscale": {
           "diverging": [
            [
             0,
             "#8e0152"
            ],
            [
             0.1,
             "#c51b7d"
            ],
            [
             0.2,
             "#de77ae"
            ],
            [
             0.3,
             "#f1b6da"
            ],
            [
             0.4,
             "#fde0ef"
            ],
            [
             0.5,
             "#f7f7f7"
            ],
            [
             0.6,
             "#e6f5d0"
            ],
            [
             0.7,
             "#b8e186"
            ],
            [
             0.8,
             "#7fbc41"
            ],
            [
             0.9,
             "#4d9221"
            ],
            [
             1,
             "#276419"
            ]
           ],
           "sequential": [
            [
             0,
             "#0d0887"
            ],
            [
             0.1111111111111111,
             "#46039f"
            ],
            [
             0.2222222222222222,
             "#7201a8"
            ],
            [
             0.3333333333333333,
             "#9c179e"
            ],
            [
             0.4444444444444444,
             "#bd3786"
            ],
            [
             0.5555555555555556,
             "#d8576b"
            ],
            [
             0.6666666666666666,
             "#ed7953"
            ],
            [
             0.7777777777777778,
             "#fb9f3a"
            ],
            [
             0.8888888888888888,
             "#fdca26"
            ],
            [
             1,
             "#f0f921"
            ]
           ],
           "sequentialminus": [
            [
             0,
             "#0d0887"
            ],
            [
             0.1111111111111111,
             "#46039f"
            ],
            [
             0.2222222222222222,
             "#7201a8"
            ],
            [
             0.3333333333333333,
             "#9c179e"
            ],
            [
             0.4444444444444444,
             "#bd3786"
            ],
            [
             0.5555555555555556,
             "#d8576b"
            ],
            [
             0.6666666666666666,
             "#ed7953"
            ],
            [
             0.7777777777777778,
             "#fb9f3a"
            ],
            [
             0.8888888888888888,
             "#fdca26"
            ],
            [
             1,
             "#f0f921"
            ]
           ]
          },
          "colorway": [
           "#636efa",
           "#EF553B",
           "#00cc96",
           "#ab63fa",
           "#FFA15A",
           "#19d3f3",
           "#FF6692",
           "#B6E880",
           "#FF97FF",
           "#FECB52"
          ],
          "font": {
           "color": "#2a3f5f"
          },
          "geo": {
           "bgcolor": "white",
           "lakecolor": "white",
           "landcolor": "white",
           "showlakes": true,
           "showland": true,
           "subunitcolor": "#C8D4E3"
          },
          "hoverlabel": {
           "align": "left"
          },
          "hovermode": "closest",
          "mapbox": {
           "style": "light"
          },
          "paper_bgcolor": "white",
          "plot_bgcolor": "white",
          "polar": {
           "angularaxis": {
            "gridcolor": "#EBF0F8",
            "linecolor": "#EBF0F8",
            "ticks": ""
           },
           "bgcolor": "white",
           "radialaxis": {
            "gridcolor": "#EBF0F8",
            "linecolor": "#EBF0F8",
            "ticks": ""
           }
          },
          "scene": {
           "xaxis": {
            "backgroundcolor": "white",
            "gridcolor": "#DFE8F3",
            "gridwidth": 2,
            "linecolor": "#EBF0F8",
            "showbackground": true,
            "ticks": "",
            "zerolinecolor": "#EBF0F8"
           },
           "yaxis": {
            "backgroundcolor": "white",
            "gridcolor": "#DFE8F3",
            "gridwidth": 2,
            "linecolor": "#EBF0F8",
            "showbackground": true,
            "ticks": "",
            "zerolinecolor": "#EBF0F8"
           },
           "zaxis": {
            "backgroundcolor": "white",
            "gridcolor": "#DFE8F3",
            "gridwidth": 2,
            "linecolor": "#EBF0F8",
            "showbackground": true,
            "ticks": "",
            "zerolinecolor": "#EBF0F8"
           }
          },
          "shapedefaults": {
           "line": {
            "color": "#2a3f5f"
           }
          },
          "ternary": {
           "aaxis": {
            "gridcolor": "#DFE8F3",
            "linecolor": "#A2B1C6",
            "ticks": ""
           },
           "baxis": {
            "gridcolor": "#DFE8F3",
            "linecolor": "#A2B1C6",
            "ticks": ""
           },
           "bgcolor": "white",
           "caxis": {
            "gridcolor": "#DFE8F3",
            "linecolor": "#A2B1C6",
            "ticks": ""
           }
          },
          "title": {
           "x": 0.05
          },
          "xaxis": {
           "automargin": true,
           "gridcolor": "#EBF0F8",
           "linecolor": "#EBF0F8",
           "ticks": "",
           "title": {
            "standoff": 15
           },
           "zerolinecolor": "#EBF0F8",
           "zerolinewidth": 2
          },
          "yaxis": {
           "automargin": true,
           "gridcolor": "#EBF0F8",
           "linecolor": "#EBF0F8",
           "ticks": "",
           "title": {
            "standoff": 15
           },
           "zerolinecolor": "#EBF0F8",
           "zerolinewidth": 2
          }
         }
        },
        "title": {
         "text": "Illustration des trois cas possibles pour la courbe ROC et l'AUC"
        },
        "xaxis": {
         "anchor": "y",
         "domain": [
          0,
          0.27999999999999997
         ],
         "range": [
          0,
          1
         ],
         "title": {
          "text": "Faux positifs (FPR)"
         }
        },
        "xaxis2": {
         "anchor": "y2",
         "domain": [
          0.36,
          0.6399999999999999
         ],
         "range": [
          0,
          1
         ],
         "title": {
          "text": "Faux positifs (FPR)"
         }
        },
        "xaxis3": {
         "anchor": "y3",
         "domain": [
          0.72,
          1
         ],
         "range": [
          0,
          1
         ],
         "title": {
          "text": "Faux positifs (FPR)"
         }
        },
        "yaxis": {
         "anchor": "x",
         "domain": [
          0,
          1
         ],
         "range": [
          0,
          1
         ],
         "title": {
          "text": "Vrais positifs (TPR)"
         }
        },
        "yaxis2": {
         "anchor": "x2",
         "domain": [
          0,
          1
         ],
         "range": [
          0,
          1
         ],
         "title": {
          "text": "Vrais positifs (TPR)"
         }
        },
        "yaxis3": {
         "anchor": "x3",
         "domain": [
          0,
          1
         ],
         "range": [
          0,
          1
         ],
         "title": {
          "text": "Vrais positifs (TPR)"
         }
        }
       }
      }
     },
     "metadata": {},
     "output_type": "display_data"
    }
   ],
   "source": [
    "from graph_gen import get_roc_auc\n",
    "\n",
    "get_roc_auc()"
   ]
  },
  {
   "cell_type": "markdown",
   "id": "38c5d056",
   "metadata": {},
   "source": [
    "## Applications pratiques et workflow\n",
    "---\n",
    "\n",
    "### Construction méthodique d'un modèle\n",
    "\n",
    "1. **Import et exploration** des données (pandas, scikit-learn)\n",
    "2. **Preprocessing** : gestion des valeurs manquantes, encodage, standardisation\n",
    "3. **Split stratifié** train/test\n",
    "4. **Pipeline automatisé** pour éviter les fuites de données\n",
    "5. **Entraînement** du modèle\n",
    "6. **Évaluation multi-critères** : matrice de confusion, métriques, ROC\n",
    "\n",
    "### Modélisation multi-classe\n",
    "\n",
    "- Utilisation de `np.argmax()` pour identifier la classe prédite\n",
    "- Analyse des probabilités par classe\n",
    "- Focus sur les observations à faible confiance\n",
    "\n",
    "## Bonnes pratiques et recommandations\n",
    "---\n",
    "\n",
    "### Surveillance des métriques\n",
    "\n",
    "- **Analyser recall vs precision** selon l'acceptabilité des erreurs\n",
    "- **Adapter class_weight** pour gérer le déséquilibre sans sur-corriger\n",
    "- **Utiliser les pipelines** pour fiabiliser le processus\n",
    "\n",
    "### Workflow de validation\n",
    "\n",
    "1. **Comprendre la fonction de coût** et son impact sur l'apprentissage\n",
    "2. **Choisir les métriques** selon le contexte métier\n",
    "3. **Stratifier les splits** pour préserver les proportions\n",
    "4. **Vérifier la généralisation** via les scores de test\n",
    "5. **Ajuster les seuils** si nécessaire pour optimiser FP vs FN\n",
    "\n",
    "### Perspectives d'amélioration\n",
    "\n",
    "- **Optimisation des seuils** (abordée en détail dans le module M06D05)\n",
    "- **Modèles ensemble** pour améliorer la robustesse\n",
    "- **Techniques de rééchantillonnage** pour les déséquilibres sévères\n",
    "\n",
    "Cette base théorique et pratique de la classification prépare l'exploration des techniques avancées d'optimisation et des modèles d'arbres décisionnels présentés dans les modules suivants.\n"
   ]
  },
  {
   "cell_type": "markdown",
   "id": "212721e4",
   "metadata": {},
   "source": []
  }
 ],
 "metadata": {
  "kernelspec": {
   "display_name": ".venv",
   "language": "python",
   "name": "python3"
  },
  "language_info": {
   "codemirror_mode": {
    "name": "ipython",
    "version": 3
   },
   "file_extension": ".py",
   "mimetype": "text/x-python",
   "name": "python",
   "nbconvert_exporter": "python",
   "pygments_lexer": "ipython3",
   "version": "3.12.3"
  }
 },
 "nbformat": 4,
 "nbformat_minor": 5
}
